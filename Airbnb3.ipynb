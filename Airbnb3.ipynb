{
 "cells": [
  {
   "cell_type": "code",
   "execution_count": 29,
   "metadata": {},
   "outputs": [],
   "source": [
    "import pandas as pd\n",
    "import warnings\n",
    "import matplotlib.pyplot as plt\n",
    "%matplotlib inline\n",
    "import mglearn\n",
    "from sklearn.model_selection import train_test_split\n",
    "from sklearn.ensemble import RandomForestClassifier\n",
    "from sklearn.ensemble import RandomForestRegressor\n",
    "from sklearn.preprocessing import StandardScaler  \n",
    "from sklearn.neural_network import MLPClassifier\n",
    "from sklearn.datasets import load_breast_cancer\n",
    "from sklearn.manifold import TSNE\n",
    "from sklearn.linear_model import LinearRegression\n",
    "from sklearn.neural_network import MLPClassifier\n",
    "from sklearn.decomposition import PCA\n",
    "from sklearn import metrics\n",
    "import datetime\n",
    "from alpha_vantage.timeseries import TimeSeries\n",
    "from pprint import pprint\n",
    "import ta\n",
    "import numpy as np\n",
    "from sklearn.model_selection import train_test_split\n",
    "from sklearn.neighbors import KNeighborsClassifier\n",
    "from sklearn.linear_model import LogisticRegression\n",
    "from sklearn.svm import LinearSVC\n",
    "from sklearn.linear_model import Lasso\n",
    "import warnings\n",
    "from operator import itemgetter \n",
    "from sklearn.tree import DecisionTreeClassifier\n"
   ]
  },
  {
   "cell_type": "code",
   "execution_count": 30,
   "metadata": {},
   "outputs": [
    {
     "name": "stdout",
     "output_type": "stream",
     "text": [
      "<class 'pandas.core.frame.DataFrame'>\n",
      "Int64Index: 28415 entries, 0 to 28417\n",
      "Data columns (total 5 columns):\n",
      "neighbourhood    28415 non-null object\n",
      "latitude         28415 non-null float64\n",
      "longitude        28415 non-null float64\n",
      "room_type        28415 non-null object\n",
      "price            28415 non-null int64\n",
      "dtypes: float64(2), int64(1), object(2)\n",
      "memory usage: 1.3+ MB\n"
     ]
    },
    {
     "data": {
      "text/html": [
       "<div>\n",
       "<style scoped>\n",
       "    .dataframe tbody tr th:only-of-type {\n",
       "        vertical-align: middle;\n",
       "    }\n",
       "\n",
       "    .dataframe tbody tr th {\n",
       "        vertical-align: top;\n",
       "    }\n",
       "\n",
       "    .dataframe thead th {\n",
       "        text-align: right;\n",
       "    }\n",
       "</style>\n",
       "<table border=\"1\" class=\"dataframe\">\n",
       "  <thead>\n",
       "    <tr style=\"text-align: right;\">\n",
       "      <th></th>\n",
       "      <th>neighbourhood</th>\n",
       "      <th>latitude</th>\n",
       "      <th>longitude</th>\n",
       "      <th>room_type</th>\n",
       "      <th>price</th>\n",
       "    </tr>\n",
       "  </thead>\n",
       "  <tbody>\n",
       "    <tr>\n",
       "      <td>0</td>\n",
       "      <td>Nrrebro</td>\n",
       "      <td>55.68798</td>\n",
       "      <td>12.54571</td>\n",
       "      <td>Private room</td>\n",
       "      <td>373</td>\n",
       "    </tr>\n",
       "    <tr>\n",
       "      <td>1</td>\n",
       "      <td>Indre By</td>\n",
       "      <td>55.69163</td>\n",
       "      <td>12.57459</td>\n",
       "      <td>Entire home/apt</td>\n",
       "      <td>2397</td>\n",
       "    </tr>\n",
       "    <tr>\n",
       "      <td>2</td>\n",
       "      <td>Indre By</td>\n",
       "      <td>55.67590</td>\n",
       "      <td>12.57698</td>\n",
       "      <td>Entire home/apt</td>\n",
       "      <td>3103</td>\n",
       "    </tr>\n",
       "    <tr>\n",
       "      <td>3</td>\n",
       "      <td>Vesterbro-Kongens Enghave</td>\n",
       "      <td>55.67069</td>\n",
       "      <td>12.55430</td>\n",
       "      <td>Entire home/apt</td>\n",
       "      <td>801</td>\n",
       "    </tr>\n",
       "    <tr>\n",
       "      <td>4</td>\n",
       "      <td>sterbro</td>\n",
       "      <td>55.69375</td>\n",
       "      <td>12.56945</td>\n",
       "      <td>Entire home/apt</td>\n",
       "      <td>862</td>\n",
       "    </tr>\n",
       "  </tbody>\n",
       "</table>\n",
       "</div>"
      ],
      "text/plain": [
       "               neighbourhood  latitude  longitude        room_type  price\n",
       "0                    Nrrebro  55.68798   12.54571     Private room    373\n",
       "1                   Indre By  55.69163   12.57459  Entire home/apt   2397\n",
       "2                   Indre By  55.67590   12.57698  Entire home/apt   3103\n",
       "3  Vesterbro-Kongens Enghave  55.67069   12.55430  Entire home/apt    801\n",
       "4                    sterbro  55.69375   12.56945  Entire home/apt    862"
      ]
     },
     "execution_count": 30,
     "metadata": {},
     "output_type": "execute_result"
    }
   ],
   "source": [
    "df = pd.read_csv('new2.csv', index_col = 0)\n",
    "df.info()\n",
    "df.head()"
   ]
  },
  {
   "cell_type": "code",
   "execution_count": 31,
   "metadata": {},
   "outputs": [
    {
     "data": {
      "text/html": [
       "<div>\n",
       "<style scoped>\n",
       "    .dataframe tbody tr th:only-of-type {\n",
       "        vertical-align: middle;\n",
       "    }\n",
       "\n",
       "    .dataframe tbody tr th {\n",
       "        vertical-align: top;\n",
       "    }\n",
       "\n",
       "    .dataframe thead th {\n",
       "        text-align: right;\n",
       "    }\n",
       "</style>\n",
       "<table border=\"1\" class=\"dataframe\">\n",
       "  <thead>\n",
       "    <tr style=\"text-align: right;\">\n",
       "      <th></th>\n",
       "      <th>room_type</th>\n",
       "      <th>price</th>\n",
       "    </tr>\n",
       "  </thead>\n",
       "  <tbody>\n",
       "    <tr>\n",
       "      <td>0</td>\n",
       "      <td>Private room</td>\n",
       "      <td>373</td>\n",
       "    </tr>\n",
       "    <tr>\n",
       "      <td>1</td>\n",
       "      <td>Entire home/apt</td>\n",
       "      <td>2397</td>\n",
       "    </tr>\n",
       "    <tr>\n",
       "      <td>2</td>\n",
       "      <td>Entire home/apt</td>\n",
       "      <td>3103</td>\n",
       "    </tr>\n",
       "    <tr>\n",
       "      <td>3</td>\n",
       "      <td>Entire home/apt</td>\n",
       "      <td>801</td>\n",
       "    </tr>\n",
       "    <tr>\n",
       "      <td>4</td>\n",
       "      <td>Entire home/apt</td>\n",
       "      <td>862</td>\n",
       "    </tr>\n",
       "  </tbody>\n",
       "</table>\n",
       "</div>"
      ],
      "text/plain": [
       "         room_type  price\n",
       "0     Private room    373\n",
       "1  Entire home/apt   2397\n",
       "2  Entire home/apt   3103\n",
       "3  Entire home/apt    801\n",
       "4  Entire home/apt    862"
      ]
     },
     "execution_count": 31,
     "metadata": {},
     "output_type": "execute_result"
    }
   ],
   "source": [
    "cols_to_drop = [\"neighbourhood\", \"latitude\", \"longitude\" ]\n",
    "df_free = df.drop(columns=cols_to_drop,axis=1)\n",
    "\n",
    "df_free.head()"
   ]
  },
  {
   "cell_type": "code",
   "execution_count": 32,
   "metadata": {},
   "outputs": [
    {
     "data": {
      "text/html": [
       "<div>\n",
       "<style scoped>\n",
       "    .dataframe tbody tr th:only-of-type {\n",
       "        vertical-align: middle;\n",
       "    }\n",
       "\n",
       "    .dataframe tbody tr th {\n",
       "        vertical-align: top;\n",
       "    }\n",
       "\n",
       "    .dataframe thead th {\n",
       "        text-align: right;\n",
       "    }\n",
       "</style>\n",
       "<table border=\"1\" class=\"dataframe\">\n",
       "  <thead>\n",
       "    <tr style=\"text-align: right;\">\n",
       "      <th></th>\n",
       "      <th>price</th>\n",
       "      <th>room_type_Hotel room</th>\n",
       "      <th>room_type_Private room</th>\n",
       "      <th>room_type_Shared room</th>\n",
       "    </tr>\n",
       "  </thead>\n",
       "  <tbody>\n",
       "    <tr>\n",
       "      <td>0</td>\n",
       "      <td>373</td>\n",
       "      <td>0</td>\n",
       "      <td>1</td>\n",
       "      <td>0</td>\n",
       "    </tr>\n",
       "    <tr>\n",
       "      <td>1</td>\n",
       "      <td>2397</td>\n",
       "      <td>0</td>\n",
       "      <td>0</td>\n",
       "      <td>0</td>\n",
       "    </tr>\n",
       "    <tr>\n",
       "      <td>2</td>\n",
       "      <td>3103</td>\n",
       "      <td>0</td>\n",
       "      <td>0</td>\n",
       "      <td>0</td>\n",
       "    </tr>\n",
       "    <tr>\n",
       "      <td>3</td>\n",
       "      <td>801</td>\n",
       "      <td>0</td>\n",
       "      <td>0</td>\n",
       "      <td>0</td>\n",
       "    </tr>\n",
       "    <tr>\n",
       "      <td>4</td>\n",
       "      <td>862</td>\n",
       "      <td>0</td>\n",
       "      <td>0</td>\n",
       "      <td>0</td>\n",
       "    </tr>\n",
       "  </tbody>\n",
       "</table>\n",
       "</div>"
      ],
      "text/plain": [
       "   price  room_type_Hotel room  room_type_Private room  room_type_Shared room\n",
       "0    373                     0                       1                      0\n",
       "1   2397                     0                       0                      0\n",
       "2   3103                     0                       0                      0\n",
       "3    801                     0                       0                      0\n",
       "4    862                     0                       0                      0"
      ]
     },
     "execution_count": 32,
     "metadata": {},
     "output_type": "execute_result"
    }
   ],
   "source": [
    "numericdatax = pd.get_dummies(df_free, columns= ['room_type'], drop_first=True)\n",
    "numericdatax.head()"
   ]
  },
  {
   "cell_type": "code",
   "execution_count": 33,
   "metadata": {},
   "outputs": [],
   "source": [
    "x = numericdatax\n",
    "y = df_free['price']"
   ]
  },
  {
   "cell_type": "code",
   "execution_count": 34,
   "metadata": {},
   "outputs": [
    {
     "name": "stdout",
     "output_type": "stream",
     "text": [
      "(22732, 4) (22732,)\n",
      "(5683, 4) (5683,)\n"
     ]
    }
   ],
   "source": [
    "x_train, x_test, y_train, y_test = train_test_split(x, y,  test_size = 0.2, random_state = 1)\n",
    "\n",
    "print (x_train.shape, y_train.shape)\n",
    "print (x_test.shape, y_test.shape)"
   ]
  },
  {
   "cell_type": "code",
   "execution_count": 35,
   "metadata": {},
   "outputs": [
    {
     "name": "stdout",
     "output_type": "stream",
     "text": [
      "ran_forest train score: 0.9973605490058068\n",
      "ran_forest test score: 0.9880344888263242\n"
     ]
    }
   ],
   "source": [
    "ran_forest = RandomForestClassifier(n_estimators=5, random_state=0)\n",
    "ran_forest.fit(x_train, y_train)\n",
    "\n",
    "print (\"ran_forest train score:\", ran_forest.score (x_train, y_train, sample_weight = None))\n",
    "print (\"ran_forest test score:\", ran_forest.score (x_test, y_test, sample_weight = None))"
   ]
  },
  {
   "cell_type": "code",
   "execution_count": 38,
   "metadata": {},
   "outputs": [
    {
     "name": "stdout",
     "output_type": "stream",
     "text": [
      "Test  Train  Max_features\n",
      "0.9898, 0.9974, 20\n",
      "0.9896, 0.9974, 16\n",
      "0.9896, 0.9974, 18\n",
      "0.9896, 0.9974, 19\n",
      "0.9894, 0.9974, 13\n",
      "0.9894, 0.9974, 17\n",
      "0.9893, 0.9974, 15\n",
      "0.9891, 0.9974, 11\n",
      "0.9889, 0.9974, 7\n",
      "0.9889, 0.9974, 12\n",
      "0.9889, 0.9974, 14\n",
      "0.9887, 0.9974, 9\n",
      "0.9886, 0.9974, 10\n",
      "0.9884, 0.9974, 6\n",
      "0.9884, 0.9974, 8\n",
      "0.9882, 0.9974, 4\n",
      "0.9880, 0.9974, 3\n",
      "0.9880, 0.9974, 5\n",
      "0.9863, 0.9974, 2\n",
      "0.9861, 0.9974, 1\n"
     ]
    }
   ],
   "source": [
    "training_accuracy = dict()\n",
    "test_accuracy = dict()\n",
    "\n",
    "max_features_settings = range(1,21) \n",
    "\n",
    "for max_features in max_features_settings:\n",
    "    key = str(max_features)\n",
    "    ran_forest = RandomForestClassifier(n_estimators=max_features, random_state=0)\n",
    "    ran_forest.fit(x_train, y_train)\n",
    "    \n",
    "    value = ran_forest_ran.score(x_train, y_train)\n",
    "    training_accuracy[key] = value\n",
    "    \n",
    "    value = ran_forest.score(x_test, y_test)\n",
    "    test_accuracy[key] = value\n",
    "    \n",
    "print (\"Test  Train  Max_features\")\n",
    "for key in sorted(test_accuracy, key=test_accuracy.get, reverse=True):\n",
    "    print (\"{:.4f}, {:.4f}, {}\"\n",
    "          .format(test_accuracy[key], training_accuracy[key], key))"
   ]
  },
  {
   "cell_type": "code",
   "execution_count": 37,
   "metadata": {},
   "outputs": [
    {
     "name": "stdout",
     "output_type": "stream",
     "text": [
      "Test  Train  Max_features\n",
      "0.9898, 0.9001, 5\n",
      "0.9896, 0.8891, 6\n",
      "0.9895, 0.8831, 7\n",
      "0.9884, 0.9122, 4\n",
      "0.9882, 0.8784, 8\n",
      "0.9876, 0.9536, 13\n",
      "0.9876, 0.9601, 16\n",
      "0.9876, 0.9546, 15\n",
      "0.9875, 0.9457, 12\n",
      "0.9874, 0.9637, 19\n",
      "0.9874, 0.9038, 9\n",
      "0.9873, 0.9684, 18\n",
      "0.9873, 0.9355, 11\n",
      "0.9872, 0.9646, 17\n",
      "0.9872, 0.9672, 20\n",
      "0.9870, 0.9479, 14\n",
      "0.9864, 0.9220, 10\n",
      "0.9858, 0.9303, 3\n",
      "0.9797, 0.9599, 2\n",
      "0.9733, 0.8416, 1\n"
     ]
    }
   ],
   "source": [
    "training_accuracy = dict()\n",
    "test_accuracy = dict()\n",
    "\n",
    "max_features_settings = range(1,21) \n",
    "\n",
    "for max_features in max_features_settings:\n",
    "    key = str(max_features)\n",
    "    ran_forest = RandomForestRegressor(n_estimators=max_features, random_state=0)\n",
    "    ran_forest.fit(x_train, y_train)\n",
    "    \n",
    "    value = ran_forest.score(x_train, y_train)\n",
    "    training_accuracy[key] = value\n",
    "    \n",
    "    value = ran_forest.score(x_test, y_test)\n",
    "    test_accuracy[key] = value\n",
    "    \n",
    "print (\"Test  Train  Max_features\")\n",
    "for key in sorted(test_accuracy, key=test_accuracy.get, reverse=True):\n",
    "    print (\"{:.4f}, {:.4f}, {}\"\n",
    "          .format(test_accuracy[key], training_accuracy[key], key))"
   ]
  },
  {
   "cell_type": "code",
   "execution_count": null,
   "metadata": {},
   "outputs": [],
   "source": []
  }
 ],
 "metadata": {
  "kernelspec": {
   "display_name": "Python 3",
   "language": "python",
   "name": "python3"
  },
  "language_info": {
   "codemirror_mode": {
    "name": "ipython",
    "version": 3
   },
   "file_extension": ".py",
   "mimetype": "text/x-python",
   "name": "python",
   "nbconvert_exporter": "python",
   "pygments_lexer": "ipython3",
   "version": "3.7.4"
  }
 },
 "nbformat": 4,
 "nbformat_minor": 2
}
