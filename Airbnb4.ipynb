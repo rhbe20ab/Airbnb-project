{
 "cells": [
  {
   "cell_type": "code",
   "execution_count": 38,
   "metadata": {},
   "outputs": [],
   "source": [
    "import pandas as pd\n",
    "import warnings\n",
    "import matplotlib.pyplot as plt\n",
    "%matplotlib inline\n",
    "import mglearn\n",
    "from sklearn.model_selection import train_test_split\n",
    "from sklearn.ensemble import RandomForestClassifier\n",
    "from sklearn.ensemble import RandomForestRegressor\n",
    "from sklearn.preprocessing import StandardScaler  \n",
    "from sklearn.neural_network import MLPClassifier\n",
    "from sklearn.linear_model import LinearRegression\n",
    "from sklearn import metrics\n",
    "import datetime\n",
    "from pprint import pprint\n",
    "import numpy as np\n",
    "from sklearn.neighbors import KNeighborsClassifier\n",
    "from sklearn.linear_model import LogisticRegression\n",
    "from sklearn.svm import LinearSVC\n",
    "from sklearn.linear_model import Lasso\n",
    "from operator import itemgetter \n",
    "from sklearn.tree import DecisionTreeClassifier\n",
    "from sklearn.tree import DecisionTreeRegressor\n",
    "from sklearn.semi_supervised import LabelSpreading"
   ]
  },
  {
   "cell_type": "code",
   "execution_count": 39,
   "metadata": {},
   "outputs": [
    {
     "name": "stdout",
     "output_type": "stream",
     "text": [
      "<class 'pandas.core.frame.DataFrame'>\n",
      "Int64Index: 28415 entries, 0 to 28417\n",
      "Data columns (total 5 columns):\n",
      "neighbourhood    28415 non-null object\n",
      "latitude         28415 non-null float64\n",
      "longitude        28415 non-null float64\n",
      "room_type        28415 non-null object\n",
      "price            28415 non-null int64\n",
      "dtypes: float64(2), int64(1), object(2)\n",
      "memory usage: 1.3+ MB\n"
     ]
    },
    {
     "data": {
      "text/plain": [
       "(28415, 5)"
      ]
     },
     "execution_count": 39,
     "metadata": {},
     "output_type": "execute_result"
    }
   ],
   "source": [
    "df = pd.read_csv('new2.csv', index_col = 0)\n",
    "df.info()\n",
    "df.head()\n",
    "\n",
    "df.shape\n"
   ]
  },
  {
   "cell_type": "code",
   "execution_count": 40,
   "metadata": {},
   "outputs": [
    {
     "data": {
      "text/plain": [
       "Nrrebro                      5186\n",
       "Vesterbro-Kongens Enghave    4400\n",
       "Indre By                     3782\n",
       "Frederiksberg                3319\n",
       "sterbro                      3010\n",
       "Amager Vest                  2584\n",
       "Amager st                    2124\n",
       "Bispebjerg                   1449\n",
       "Valby                        1241\n",
       "Vanlse                        773\n",
       "Brnshj-Husum                  547\n",
       "Name: neighbourhood, dtype: int64"
      ]
     },
     "execution_count": 40,
     "metadata": {},
     "output_type": "execute_result"
    }
   ],
   "source": [
    "df.neighbourhood.value_counts()"
   ]
  },
  {
   "cell_type": "code",
   "execution_count": 41,
   "metadata": {},
   "outputs": [
    {
     "data": {
      "text/plain": [
       "Entire home/apt    23923\n",
       "Private room        4375\n",
       "Shared room           78\n",
       "Hotel room            39\n",
       "Name: room_type, dtype: int64"
      ]
     },
     "execution_count": 41,
     "metadata": {},
     "output_type": "execute_result"
    }
   ],
   "source": [
    "df.room_type.value_counts()"
   ]
  },
  {
   "cell_type": "code",
   "execution_count": 42,
   "metadata": {},
   "outputs": [
    {
     "data": {
      "text/html": [
       "<div>\n",
       "<style scoped>\n",
       "    .dataframe tbody tr th:only-of-type {\n",
       "        vertical-align: middle;\n",
       "    }\n",
       "\n",
       "    .dataframe tbody tr th {\n",
       "        vertical-align: top;\n",
       "    }\n",
       "\n",
       "    .dataframe thead th {\n",
       "        text-align: right;\n",
       "    }\n",
       "</style>\n",
       "<table border=\"1\" class=\"dataframe\">\n",
       "  <thead>\n",
       "    <tr style=\"text-align: right;\">\n",
       "      <th></th>\n",
       "      <th>neighbourhood</th>\n",
       "      <th>room_type</th>\n",
       "      <th>price</th>\n",
       "    </tr>\n",
       "  </thead>\n",
       "  <tbody>\n",
       "    <tr>\n",
       "      <td>0</td>\n",
       "      <td>Nrrebro</td>\n",
       "      <td>Private room</td>\n",
       "      <td>373</td>\n",
       "    </tr>\n",
       "    <tr>\n",
       "      <td>1</td>\n",
       "      <td>Indre By</td>\n",
       "      <td>Entire home/apt</td>\n",
       "      <td>2397</td>\n",
       "    </tr>\n",
       "    <tr>\n",
       "      <td>2</td>\n",
       "      <td>Indre By</td>\n",
       "      <td>Entire home/apt</td>\n",
       "      <td>3103</td>\n",
       "    </tr>\n",
       "    <tr>\n",
       "      <td>3</td>\n",
       "      <td>Vesterbro-Kongens Enghave</td>\n",
       "      <td>Entire home/apt</td>\n",
       "      <td>801</td>\n",
       "    </tr>\n",
       "    <tr>\n",
       "      <td>4</td>\n",
       "      <td>sterbro</td>\n",
       "      <td>Entire home/apt</td>\n",
       "      <td>862</td>\n",
       "    </tr>\n",
       "  </tbody>\n",
       "</table>\n",
       "</div>"
      ],
      "text/plain": [
       "               neighbourhood        room_type  price\n",
       "0                    Nrrebro     Private room    373\n",
       "1                   Indre By  Entire home/apt   2397\n",
       "2                   Indre By  Entire home/apt   3103\n",
       "3  Vesterbro-Kongens Enghave  Entire home/apt    801\n",
       "4                    sterbro  Entire home/apt    862"
      ]
     },
     "execution_count": 42,
     "metadata": {},
     "output_type": "execute_result"
    }
   ],
   "source": [
    "# removing the irrelevant columns\n",
    "cols_to_drop = [\"latitude\", \"longitude\"]\n",
    "df = df.drop(columns=cols_to_drop,axis=1)\n",
    "\n",
    "df.head()"
   ]
  },
  {
   "cell_type": "code",
   "execution_count": 43,
   "metadata": {},
   "outputs": [
    {
     "data": {
      "text/html": [
       "<div>\n",
       "<style scoped>\n",
       "    .dataframe tbody tr th:only-of-type {\n",
       "        vertical-align: middle;\n",
       "    }\n",
       "\n",
       "    .dataframe tbody tr th {\n",
       "        vertical-align: top;\n",
       "    }\n",
       "\n",
       "    .dataframe thead th {\n",
       "        text-align: right;\n",
       "    }\n",
       "</style>\n",
       "<table border=\"1\" class=\"dataframe\">\n",
       "  <thead>\n",
       "    <tr style=\"text-align: right;\">\n",
       "      <th></th>\n",
       "      <th>price</th>\n",
       "      <th>room_type_Hotel room</th>\n",
       "      <th>room_type_Private room</th>\n",
       "      <th>room_type_Shared room</th>\n",
       "      <th>neighbourhood_Amager st</th>\n",
       "      <th>neighbourhood_Bispebjerg</th>\n",
       "      <th>neighbourhood_Brnshj-Husum</th>\n",
       "      <th>neighbourhood_Frederiksberg</th>\n",
       "      <th>neighbourhood_Indre By</th>\n",
       "      <th>neighbourhood_Nrrebro</th>\n",
       "      <th>neighbourhood_Valby</th>\n",
       "      <th>neighbourhood_Vanlse</th>\n",
       "      <th>neighbourhood_Vesterbro-Kongens Enghave</th>\n",
       "      <th>neighbourhood_sterbro</th>\n",
       "    </tr>\n",
       "  </thead>\n",
       "  <tbody>\n",
       "    <tr>\n",
       "      <td>0</td>\n",
       "      <td>373</td>\n",
       "      <td>0</td>\n",
       "      <td>1</td>\n",
       "      <td>0</td>\n",
       "      <td>0</td>\n",
       "      <td>0</td>\n",
       "      <td>0</td>\n",
       "      <td>0</td>\n",
       "      <td>0</td>\n",
       "      <td>1</td>\n",
       "      <td>0</td>\n",
       "      <td>0</td>\n",
       "      <td>0</td>\n",
       "      <td>0</td>\n",
       "    </tr>\n",
       "    <tr>\n",
       "      <td>1</td>\n",
       "      <td>2397</td>\n",
       "      <td>0</td>\n",
       "      <td>0</td>\n",
       "      <td>0</td>\n",
       "      <td>0</td>\n",
       "      <td>0</td>\n",
       "      <td>0</td>\n",
       "      <td>0</td>\n",
       "      <td>1</td>\n",
       "      <td>0</td>\n",
       "      <td>0</td>\n",
       "      <td>0</td>\n",
       "      <td>0</td>\n",
       "      <td>0</td>\n",
       "    </tr>\n",
       "    <tr>\n",
       "      <td>2</td>\n",
       "      <td>3103</td>\n",
       "      <td>0</td>\n",
       "      <td>0</td>\n",
       "      <td>0</td>\n",
       "      <td>0</td>\n",
       "      <td>0</td>\n",
       "      <td>0</td>\n",
       "      <td>0</td>\n",
       "      <td>1</td>\n",
       "      <td>0</td>\n",
       "      <td>0</td>\n",
       "      <td>0</td>\n",
       "      <td>0</td>\n",
       "      <td>0</td>\n",
       "    </tr>\n",
       "    <tr>\n",
       "      <td>3</td>\n",
       "      <td>801</td>\n",
       "      <td>0</td>\n",
       "      <td>0</td>\n",
       "      <td>0</td>\n",
       "      <td>0</td>\n",
       "      <td>0</td>\n",
       "      <td>0</td>\n",
       "      <td>0</td>\n",
       "      <td>0</td>\n",
       "      <td>0</td>\n",
       "      <td>0</td>\n",
       "      <td>0</td>\n",
       "      <td>1</td>\n",
       "      <td>0</td>\n",
       "    </tr>\n",
       "    <tr>\n",
       "      <td>4</td>\n",
       "      <td>862</td>\n",
       "      <td>0</td>\n",
       "      <td>0</td>\n",
       "      <td>0</td>\n",
       "      <td>0</td>\n",
       "      <td>0</td>\n",
       "      <td>0</td>\n",
       "      <td>0</td>\n",
       "      <td>0</td>\n",
       "      <td>0</td>\n",
       "      <td>0</td>\n",
       "      <td>0</td>\n",
       "      <td>0</td>\n",
       "      <td>1</td>\n",
       "    </tr>\n",
       "  </tbody>\n",
       "</table>\n",
       "</div>"
      ],
      "text/plain": [
       "   price  room_type_Hotel room  room_type_Private room  room_type_Shared room  \\\n",
       "0    373                     0                       1                      0   \n",
       "1   2397                     0                       0                      0   \n",
       "2   3103                     0                       0                      0   \n",
       "3    801                     0                       0                      0   \n",
       "4    862                     0                       0                      0   \n",
       "\n",
       "   neighbourhood_Amager st  neighbourhood_Bispebjerg  \\\n",
       "0                        0                         0   \n",
       "1                        0                         0   \n",
       "2                        0                         0   \n",
       "3                        0                         0   \n",
       "4                        0                         0   \n",
       "\n",
       "   neighbourhood_Brnshj-Husum  neighbourhood_Frederiksberg  \\\n",
       "0                           0                            0   \n",
       "1                           0                            0   \n",
       "2                           0                            0   \n",
       "3                           0                            0   \n",
       "4                           0                            0   \n",
       "\n",
       "   neighbourhood_Indre By  neighbourhood_Nrrebro  neighbourhood_Valby  \\\n",
       "0                       0                      1                    0   \n",
       "1                       1                      0                    0   \n",
       "2                       1                      0                    0   \n",
       "3                       0                      0                    0   \n",
       "4                       0                      0                    0   \n",
       "\n",
       "   neighbourhood_Vanlse  neighbourhood_Vesterbro-Kongens Enghave  \\\n",
       "0                     0                                        0   \n",
       "1                     0                                        0   \n",
       "2                     0                                        0   \n",
       "3                     0                                        1   \n",
       "4                     0                                        0   \n",
       "\n",
       "   neighbourhood_sterbro  \n",
       "0                      0  \n",
       "1                      0  \n",
       "2                      0  \n",
       "3                      0  \n",
       "4                      1  "
      ]
     },
     "execution_count": 43,
     "metadata": {},
     "output_type": "execute_result"
    }
   ],
   "source": [
    "numericdatax = pd.get_dummies(df, columns= ['room_type', 'neighbourhood'], drop_first=True)\n",
    "numericdatax.head()"
   ]
  },
  {
   "cell_type": "code",
   "execution_count": 44,
   "metadata": {},
   "outputs": [],
   "source": [
    "x = numericdatax\n",
    "y = df['price']"
   ]
  },
  {
   "cell_type": "code",
   "execution_count": 45,
   "metadata": {},
   "outputs": [
    {
     "name": "stdout",
     "output_type": "stream",
     "text": [
      "(22732, 14) (22732,)\n",
      "(5683, 14) (5683,)\n"
     ]
    }
   ],
   "source": [
    "x_train, x_test, y_train, y_test = train_test_split(x, y,  test_size = 0.2, random_state = 1)\n",
    "\n",
    "print (x_train.shape, y_train.shape)\n",
    "print (x_test.shape, y_test.shape)"
   ]
  },
  {
   "cell_type": "code",
   "execution_count": 46,
   "metadata": {},
   "outputs": [
    {
     "name": "stdout",
     "output_type": "stream",
     "text": [
      "ran_forest train score: 0.9835474221361957\n",
      "ran_forest test score: 0.9132500439908499\n"
     ]
    }
   ],
   "source": [
    "ran_forest = RandomForestClassifier(n_estimators=5, random_state=0)\n",
    "ran_forest.fit(x_train, y_train)\n",
    "\n",
    "print (\"ran_forest train score:\", ran_forest.score (x_train, y_train, sample_weight = None))\n",
    "print (\"ran_forest test score:\", ran_forest.score (x_test, y_test, sample_weight = None))"
   ]
  },
  {
   "cell_type": "code",
   "execution_count": 34,
   "metadata": {},
   "outputs": [
    {
     "name": "stdout",
     "output_type": "stream",
     "text": [
      "Test  Train  Max_features\n",
      "0.9217, 0.9962, 20\n",
      "0.9212, 0.9957, 17\n",
      "0.9212, 0.9960, 19\n",
      "0.9208, 0.9945, 14\n",
      "0.9205, 0.9949, 16\n",
      "0.9205, 0.9957, 18\n",
      "0.9203, 0.9946, 15\n",
      "0.9199, 0.9937, 13\n",
      "0.9185, 0.9929, 12\n",
      "0.9180, 0.9922, 11\n",
      "0.9168, 0.9912, 10\n",
      "0.9166, 0.9906, 9\n",
      "0.9164, 0.9898, 8\n",
      "0.9138, 0.9861, 6\n",
      "0.9133, 0.9835, 5\n",
      "0.9127, 0.9883, 7\n",
      "0.9101, 0.9807, 4\n",
      "0.9062, 0.9743, 3\n",
      "0.8949, 0.9605, 1\n",
      "0.8949, 0.9607, 2\n"
     ]
    }
   ],
   "source": [
    "training_accuracy = dict()\n",
    "test_accuracy = dict()\n",
    "\n",
    "max_features_settings = range(1,21) \n",
    "\n",
    "for max_features in max_features_settings:\n",
    "    key = str(max_features)\n",
    "    ran_forest = RandomForestClassifier(n_estimators=max_features, random_state=0)\n",
    "    ran_forest.fit(x_train, y_train)\n",
    "    \n",
    "    value = ran_forest.score(x_train, y_train)\n",
    "    training_accuracy[key] = value\n",
    "    \n",
    "    value = ran_forest.score(x_test, y_test)\n",
    "    test_accuracy[key] = value\n",
    "    \n",
    "print (\"Test  Train  Max_features\")\n",
    "for key in sorted(test_accuracy, key=test_accuracy.get, reverse=True):\n",
    "    print (\"{:.4f}, {:.4f}, {}\"\n",
    "          .format(test_accuracy[key], training_accuracy[key], key))"
   ]
  },
  {
   "cell_type": "code",
   "execution_count": 41,
   "metadata": {},
   "outputs": [
    {
     "name": "stdout",
     "output_type": "stream",
     "text": [
      "Test  Train  Max_features\n",
      "0.9898, 0.9001, 5\n",
      "0.9885, 0.8867, 6\n",
      "0.9884, 0.9122, 4\n",
      "0.9874, 0.8787, 7\n",
      "0.9858, 0.9303, 3\n",
      "0.9857, 0.9267, 11\n",
      "0.9851, 0.9383, 12\n",
      "0.9845, 0.9473, 13\n",
      "0.9845, 0.9114, 10\n",
      "0.9844, 0.8616, 8\n",
      "0.9842, 0.8906, 9\n",
      "0.9834, 0.9515, 16\n",
      "0.9825, 0.9448, 15\n",
      "0.9821, 0.9366, 14\n",
      "0.9814, 0.9613, 18\n",
      "0.9811, 0.9561, 19\n",
      "0.9809, 0.9567, 17\n",
      "0.9809, 0.9602, 20\n",
      "0.9797, 0.9599, 2\n",
      "0.9733, 0.8416, 1\n"
     ]
    }
   ],
   "source": [
    "training_accuracy = dict()\n",
    "test_accuracy = dict()\n",
    "\n",
    "max_features_settings = range(1,21) \n",
    "\n",
    "for max_features in max_features_settings:\n",
    "    key = str(max_features)\n",
    "    ran_forest = RandomForestRegressor(n_estimators=max_features, random_state=0)\n",
    "    ran_forest.fit(x_train, y_train)\n",
    "    \n",
    "    value = ran_forest.score(x_train, y_train)\n",
    "    training_accuracy[key] = value\n",
    "    \n",
    "    value = ran_forest.score(x_test, y_test)\n",
    "    test_accuracy[key] = value\n",
    "    \n",
    "print (\"Test  Train  Max_features\")\n",
    "for key in sorted(test_accuracy, key=test_accuracy.get, reverse=True):\n",
    "    print (\"{:.4f}, {:.4f}, {}\"\n",
    "          .format(test_accuracy[key], training_accuracy[key], key))"
   ]
  },
  {
   "cell_type": "code",
   "execution_count": 27,
   "metadata": {},
   "outputs": [
    {
     "name": "stdout",
     "output_type": "stream",
     "text": [
      "Test  Train  Max_Depth\n",
      "0.9926, 0.9986, 25\n",
      "0.9926, 0.9991, 26\n",
      "0.9924, 0.9994, 27\n",
      "0.9924, 0.9996, 28\n",
      "0.9924, 0.9998, 29\n",
      "0.9910, 0.9965, 23\n",
      "0.9910, 0.9978, 24\n",
      "0.9900, 0.9945, 22\n",
      "0.9875, 0.9925, 21\n",
      "0.9852, 0.9896, 20\n",
      "0.9821, 0.9858, 19\n",
      "0.9785, 0.9791, 18\n",
      "0.9701, 0.9699, 17\n",
      "0.9601, 0.9585, 16\n",
      "0.9419, 0.9424, 15\n",
      "0.9194, 0.9196, 14\n",
      "0.8900, 0.8887, 13\n",
      "0.8534, 0.8486, 12\n",
      "0.8010, 0.7988, 11\n",
      "0.7498, 0.7482, 10\n",
      "0.6952, 0.6935, 9\n",
      "0.6338, 0.6338, 8\n",
      "0.5671, 0.5711, 7\n",
      "0.4888, 0.4889, 6\n",
      "0.3530, 0.3603, 5\n",
      "0.2650, 0.2656, 4\n",
      "0.1943, 0.2016, 3\n",
      "0.1309, 0.1369, 2\n",
      "0.0700, 0.0747, 1\n"
     ]
    }
   ],
   "source": [
    "training_accuracy = dict()\n",
    "test_accuracy = dict()\n",
    "\n",
    "max_depth_settings = range(1,30) \n",
    "\n",
    "for max_depth in max_depth_settings:\n",
    "    key = str(max_depth)\n",
    "    tree = DecisionTreeClassifier(random_state=0, max_depth=max_depth)\n",
    "    tree.fit(x_train, y_train)\n",
    "    \n",
    "    value = tree.score(x_train, y_train)\n",
    "    training_accuracy[key] = value\n",
    "    \n",
    "    value = tree.score(x_test, y_test)\n",
    "    test_accuracy[key] = value\n",
    "    \n",
    "print (\"Test  Train  Max_Depth\")\n",
    "for key in sorted(test_accuracy, key=test_accuracy.get, reverse=True):\n",
    "    print (\"{:.4f}, {:.4f}, {}\"\n",
    "          .format(test_accuracy[key], training_accuracy[key], key))"
   ]
  },
  {
   "cell_type": "code",
   "execution_count": 21,
   "metadata": {
    "scrolled": true
   },
   "outputs": [
    {
     "name": "stdout",
     "output_type": "stream",
     "text": [
      "Test  Train  Max_Depth\n",
      "0.9947, 1.0000, 11\n",
      "0.9947, 1.0000, 10\n",
      "0.9947, 1.0000, 14\n",
      "0.9947, 1.0000, 15\n",
      "0.9947, 1.0000, 16\n",
      "0.9947, 1.0000, 17\n",
      "0.9947, 1.0000, 18\n",
      "0.9947, 1.0000, 19\n",
      "0.9947, 1.0000, 20\n",
      "0.9947, 1.0000, 21\n",
      "0.9947, 1.0000, 22\n",
      "0.9947, 1.0000, 23\n",
      "0.9947, 1.0000, 24\n",
      "0.9947, 1.0000, 25\n",
      "0.9947, 1.0000, 26\n",
      "0.9947, 1.0000, 27\n",
      "0.9947, 1.0000, 28\n",
      "0.9947, 1.0000, 29\n",
      "0.9947, 1.0000, 9\n",
      "0.9937, 0.9991, 6\n",
      "0.9873, 1.0000, 13\n",
      "0.9873, 1.0000, 12\n",
      "0.9762, 1.0000, 8\n",
      "0.9760, 0.9998, 7\n",
      "0.9711, 0.9956, 5\n",
      "0.9691, 0.9839, 4\n",
      "0.9149, 0.9371, 3\n",
      "0.8399, 0.8340, 2\n",
      "0.6427, 0.5820, 1\n"
     ]
    }
   ],
   "source": [
    "training_accuracy = dict()\n",
    "test_accuracy = dict()\n",
    "\n",
    "max_depth_settings = range(1,30) \n",
    "\n",
    "for max_depth in max_depth_settings:\n",
    "    key = str(max_depth)\n",
    "    tree = DecisionTreeRegressor(random_state=0, max_depth=max_depth)\n",
    "    tree.fit(x_train, y_train)\n",
    "    \n",
    "    value = tree.score(x_train, y_train)\n",
    "    training_accuracy[key] = value\n",
    "    \n",
    "    value = tree.score(x_test, y_test)\n",
    "    test_accuracy[key] = value\n",
    "    \n",
    "print (\"Test  Train  Max_Depth\")\n",
    "for key in sorted(test_accuracy, key=test_accuracy.get, reverse=True):\n",
    "    print (\"{:.4f}, {:.4f}, {}\"\n",
    "          .format(test_accuracy[key], training_accuracy[key], key))"
   ]
  },
  {
   "cell_type": "code",
   "execution_count": 35,
   "metadata": {},
   "outputs": [
    {
     "name": "stdout",
     "output_type": "stream",
     "text": [
      "MLPClassifier(activation='relu', alpha=0.0001, batch_size='auto', beta_1=0.9,\n",
      "              beta_2=0.999, early_stopping=False, epsilon=1e-08,\n",
      "              hidden_layer_sizes=(100,), learning_rate='constant',\n",
      "              learning_rate_init=0.001, max_iter=1000, momentum=0.9,\n",
      "              n_iter_no_change=10, nesterovs_momentum=True, power_t=0.5,\n",
      "              random_state=None, shuffle=True, solver='adam', tol=0.0001,\n",
      "              validation_fraction=0.1, verbose=False, warm_start=False)\n",
      "MLPC train score: 0.4685465423191976\n",
      "MLPC test score: 0.4488826324124582\n"
     ]
    }
   ],
   "source": [
    "MLPC = MLPClassifier (max_iter=1000)\n",
    "MLPC.fit(x_train, y_train)\n",
    "\n",
    "print (MLPC)\n",
    "\n",
    "print (\"MLPC train score:\", MLPC.score (x_train, y_train, sample_weight = None))\n",
    "\n",
    "print (\"MLPC test score:\", MLPC.score (x_test, y_test, sample_weight = None))"
   ]
  },
  {
   "cell_type": "code",
   "execution_count": 28,
   "metadata": {},
   "outputs": [
    {
     "name": "stdout",
     "output_type": "stream",
     "text": [
      "Lasso(alpha=1.0, copy_X=True, fit_intercept=True, max_iter=1000,\n",
      "      normalize=False, positive=False, precompute=False, random_state=None,\n",
      "      selection='cyclic', tol=0.0001, warm_start=False)\n",
      "Las train score: 0.9999999999997539\n",
      "Las test score: 0.9999999999997538\n"
     ]
    }
   ],
   "source": [
    "Las = Lasso()\n",
    "Las.fit(x_train, y_train)\n",
    "\n",
    "print (Las)\n",
    "\n",
    "print (\"Las train score:\", Las.score (x_train, y_train, sample_weight = None))\n",
    "\n",
    "print (\"Las test score:\", Las.score (x_test, y_test, sample_weight = None))"
   ]
  },
  {
   "cell_type": "code",
   "execution_count": 31,
   "metadata": {},
   "outputs": [
    {
     "name": "stdout",
     "output_type": "stream",
     "text": [
      "KNeighborsClassifier(algorithm='auto', leaf_size=30, metric='minkowski',\n",
      "                     metric_params=None, n_jobs=None, n_neighbors=5, p=2,\n",
      "                     weights='uniform')\n",
      "KNN train score: 0.9861868731303889\n",
      "KNN test score: 0.9790603554460672\n"
     ]
    }
   ],
   "source": [
    "KNN = KNeighborsClassifier()\n",
    "KNN.fit(x_train, y_train)\n",
    "\n",
    "print (KNN)\n",
    "\n",
    "print (\"KNN train score:\", KNN.score (x_train, y_train, sample_weight = None))\n",
    "\n",
    "print (\"KNN test score:\", KNN.score (x_test, y_test, sample_weight = None))"
   ]
  },
  {
   "cell_type": "code",
   "execution_count": 10,
   "metadata": {},
   "outputs": [
    {
     "name": "stdout",
     "output_type": "stream",
     "text": [
      "Test  Train  Max_Depth\n",
      "0.9882, 1.0000, 1\n",
      "0.9828, 0.9910, 3\n",
      "0.9812, 0.9931, 2\n",
      "0.9792, 0.9870, 4\n",
      "0.9791, 0.9862, 5\n",
      "0.9780, 0.9831, 6\n",
      "0.9761, 0.9822, 7\n",
      "0.9747, 0.9806, 8\n",
      "0.9733, 0.9790, 9\n",
      "0.9724, 0.9768, 10\n",
      "0.9697, 0.9749, 11\n",
      "0.9685, 0.9730, 12\n",
      "0.9666, 0.9701, 13\n",
      "0.9653, 0.9689, 14\n",
      "0.9639, 0.9663, 15\n",
      "0.9625, 0.9647, 16\n",
      "0.9618, 0.9634, 17\n",
      "0.9616, 0.9623, 18\n",
      "0.9595, 0.9599, 19\n",
      "0.9558, 0.9569, 20\n",
      "0.9523, 0.9531, 22\n",
      "0.9518, 0.9532, 21\n",
      "0.9474, 0.9501, 23\n",
      "0.9449, 0.9473, 24\n",
      "0.9414, 0.9438, 26\n",
      "0.9411, 0.9440, 25\n",
      "0.9386, 0.9413, 27\n",
      "0.9379, 0.9404, 28\n",
      "0.9345, 0.9372, 29\n"
     ]
    }
   ],
   "source": [
    "training_accuracy = dict()\n",
    "test_accuracy = dict()\n",
    "\n",
    "max_n_neighbors_settings = range(1,30) \n",
    "\n",
    "for n_neighbors in max_n_neighbors_settings:\n",
    "    key = str(n_neighbors)\n",
    "    KNN = KNeighborsClassifier(n_neighbors=n_neighbors)\n",
    "    KNN.fit(x_train, y_train)\n",
    "    \n",
    "    value = KNN.score(x_train, y_train)\n",
    "    training_accuracy[key] = value\n",
    "    \n",
    "    value = KNN.score(x_test, y_test)\n",
    "    test_accuracy[key] = value\n",
    "    \n",
    "print (\"Test  Train  Max_Depth\")\n",
    "for key in sorted(test_accuracy, key=test_accuracy.get, reverse=True):\n",
    "    print (\"{:.4f}, {:.4f}, {}\"\n",
    "          .format(test_accuracy[key], training_accuracy[key], key))"
   ]
  },
  {
   "cell_type": "code",
   "execution_count": 32,
   "metadata": {},
   "outputs": [
    {
     "name": "stdout",
     "output_type": "stream",
     "text": [
      "LinearRegression(copy_X=True, fit_intercept=True, n_jobs=None, normalize=False)\n",
      "LinRe train score: 1.0\n",
      "LinRe test score: 1.0\n"
     ]
    }
   ],
   "source": [
    "LinRe = LinearRegression()\n",
    "LinRe.fit(x_train, y_train)\n",
    "\n",
    "print (LinRe)\n",
    "\n",
    "print (\"LinRe train score:\", LinRe.score (x_train, y_train, sample_weight = None))\n",
    "\n",
    "print (\"LinRe test score:\", LinRe.score (x_test, y_test, sample_weight = None))"
   ]
  },
  {
   "cell_type": "code",
   "execution_count": 34,
   "metadata": {},
   "outputs": [
    {
     "name": "stdout",
     "output_type": "stream",
     "text": [
      "LinearSVC(C=1.0, class_weight=None, dual=True, fit_intercept=True,\n",
      "          intercept_scaling=1, loss='squared_hinge', max_iter=1000,\n",
      "          multi_class='ovr', penalty='l2', random_state=None, tol=0.0001,\n",
      "          verbose=0)\n",
      "LinSVC train score: 0.00035192679922576106\n",
      "LinSVC test score: 0.00035192679922576106\n"
     ]
    },
    {
     "name": "stderr",
     "output_type": "stream",
     "text": [
      "/Users/rhonanbennett/opt/anaconda3/lib/python3.7/site-packages/sklearn/svm/base.py:929: ConvergenceWarning: Liblinear failed to converge, increase the number of iterations.\n",
      "  \"the number of iterations.\", ConvergenceWarning)\n"
     ]
    }
   ],
   "source": [
    "LinSVC = LinearSVC()\n",
    "LinSVC.fit(x_train, y_train)\n",
    "\n",
    "print (LinSVC)\n",
    "\n",
    "print (\"LinSVC train score:\", LinSVC.score (x_train, y_train, sample_weight = None))\n",
    "\n",
    "print (\"LinSVC test score:\", LinSVC.score (x_test, y_test, sample_weight = None))"
   ]
  },
  {
   "cell_type": "code",
   "execution_count": 35,
   "metadata": {},
   "outputs": [
    {
     "name": "stderr",
     "output_type": "stream",
     "text": [
      "/Users/rhonanbennett/opt/anaconda3/lib/python3.7/site-packages/sklearn/linear_model/logistic.py:432: FutureWarning: Default solver will be changed to 'lbfgs' in 0.22. Specify a solver to silence this warning.\n",
      "  FutureWarning)\n",
      "/Users/rhonanbennett/opt/anaconda3/lib/python3.7/site-packages/sklearn/linear_model/logistic.py:469: FutureWarning: Default multi_class will be changed to 'auto' in 0.22. Specify the multi_class option to silence this warning.\n",
      "  \"this warning.\", FutureWarning)\n"
     ]
    },
    {
     "name": "stdout",
     "output_type": "stream",
     "text": [
      "LogisticRegression(C=1.0, class_weight=None, dual=False, fit_intercept=True,\n",
      "                   intercept_scaling=1, l1_ratio=None, max_iter=100,\n",
      "                   multi_class='warn', n_jobs=None, penalty='l2',\n",
      "                   random_state=None, solver='warn', tol=0.0001, verbose=0,\n",
      "                   warm_start=False)\n",
      "LinSVC train score: 0.09436037304240717\n",
      "LinSVC test score: 0.08094316382192504\n"
     ]
    }
   ],
   "source": [
    "Logic = LogisticRegression()\n",
    "Logic.fit(x_train, y_train)\n",
    "\n",
    "print (Logic)\n",
    "\n",
    "print (\"LinSVC train score:\", Logic.score (x_train, y_train, sample_weight = None))\n",
    "\n",
    "print (\"LinSVC test score:\", Logic.score (x_test, y_test, sample_weight = None))"
   ]
  },
  {
   "cell_type": "code",
   "execution_count": 37,
   "metadata": {},
   "outputs": [
    {
     "name": "stdout",
     "output_type": "stream",
     "text": [
      "LabelSpreading(alpha=0.2, gamma=20, kernel='rbf', max_iter=30, n_jobs=None,\n",
      "               n_neighbors=7, tol=0.001)\n",
      "MLPC train score: 1.0\n",
      "MLPC test score: 0.9876825620270984\n"
     ]
    },
    {
     "name": "stderr",
     "output_type": "stream",
     "text": [
      "/Users/rhonanbennett/opt/anaconda3/lib/python3.7/site-packages/sklearn/semi_supervised/label_propagation.py:201: RuntimeWarning: divide by zero encountered in true_divide\n",
      "  probabilities /= normalizer\n",
      "/Users/rhonanbennett/opt/anaconda3/lib/python3.7/site-packages/sklearn/semi_supervised/label_propagation.py:201: RuntimeWarning: invalid value encountered in true_divide\n",
      "  probabilities /= normalizer\n"
     ]
    }
   ],
   "source": [
    "label = LabelSpreading()\n",
    "label.fit (x_train, y_train)\n",
    "\n",
    "print (label)\n",
    "\n",
    "print (\"LabelSpreading train score:\", label.score (x_train, y_train, sample_weight = None))\n",
    "\n",
    "print (\"LabelSpreading test score:\", label.score (x_test, y_test, sample_weight = None))"
   ]
  },
  {
   "cell_type": "code",
   "execution_count": null,
   "metadata": {},
   "outputs": [],
   "source": []
  }
 ],
 "metadata": {
  "kernelspec": {
   "display_name": "Python 3",
   "language": "python",
   "name": "python3"
  },
  "language_info": {
   "codemirror_mode": {
    "name": "ipython",
    "version": 3
   },
   "file_extension": ".py",
   "mimetype": "text/x-python",
   "name": "python",
   "nbconvert_exporter": "python",
   "pygments_lexer": "ipython3",
   "version": "3.7.4"
  }
 },
 "nbformat": 4,
 "nbformat_minor": 2
}
